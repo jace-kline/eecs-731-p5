{
 "cells": [
  {
   "cell_type": "markdown",
   "metadata": {},
   "source": [
    "# EECS 731 - Project 5 (Forecasting)\n",
    "### Author: Jace Kline\n",
    "\n",
    "## Objective\n",
    "Given a dataset associating products and their demands over time, we shall use data cleaning, feature engineering, and model selection for predicting the demand of any particular product in the dataset."
   ]
  },
  {
   "cell_type": "code",
   "execution_count": 487,
   "metadata": {},
   "outputs": [],
   "source": [
    "import os\n",
    "import sys\n",
    "sys.path.append('../src/')\n",
    "from initial_transform import transform_write\n",
    "\n",
    "# General imports\n",
    "import numpy as np\n",
    "import pandas as pd\n",
    "from matplotlib import pyplot as plt\n",
    "%matplotlib inline"
   ]
  },
  {
   "cell_type": "markdown",
   "metadata": {},
   "source": [
    "## Loading the Initial Data\n",
    "First, we shall load the initial dataset from the CSV file. As we can see, there are over a million rows."
   ]
  },
  {
   "cell_type": "code",
   "execution_count": 488,
   "metadata": {},
   "outputs": [
    {
     "data": {
      "text/html": [
       "<div>\n",
       "<style scoped>\n",
       "    .dataframe tbody tr th:only-of-type {\n",
       "        vertical-align: middle;\n",
       "    }\n",
       "\n",
       "    .dataframe tbody tr th {\n",
       "        vertical-align: top;\n",
       "    }\n",
       "\n",
       "    .dataframe thead th {\n",
       "        text-align: right;\n",
       "    }\n",
       "</style>\n",
       "<table border=\"1\" class=\"dataframe\">\n",
       "  <thead>\n",
       "    <tr style=\"text-align: right;\">\n",
       "      <th></th>\n",
       "      <th>Product_Code</th>\n",
       "      <th>Warehouse</th>\n",
       "      <th>Product_Category</th>\n",
       "      <th>Date</th>\n",
       "      <th>Order_Demand</th>\n",
       "    </tr>\n",
       "  </thead>\n",
       "  <tbody>\n",
       "    <tr>\n",
       "      <th>0</th>\n",
       "      <td>Product_0993</td>\n",
       "      <td>Whse_J</td>\n",
       "      <td>Category_028</td>\n",
       "      <td>2012/7/27</td>\n",
       "      <td>100</td>\n",
       "    </tr>\n",
       "    <tr>\n",
       "      <th>1</th>\n",
       "      <td>Product_0979</td>\n",
       "      <td>Whse_J</td>\n",
       "      <td>Category_028</td>\n",
       "      <td>2012/1/19</td>\n",
       "      <td>500</td>\n",
       "    </tr>\n",
       "    <tr>\n",
       "      <th>2</th>\n",
       "      <td>Product_0979</td>\n",
       "      <td>Whse_J</td>\n",
       "      <td>Category_028</td>\n",
       "      <td>2012/2/3</td>\n",
       "      <td>500</td>\n",
       "    </tr>\n",
       "    <tr>\n",
       "      <th>3</th>\n",
       "      <td>Product_0979</td>\n",
       "      <td>Whse_J</td>\n",
       "      <td>Category_028</td>\n",
       "      <td>2012/2/9</td>\n",
       "      <td>500</td>\n",
       "    </tr>\n",
       "    <tr>\n",
       "      <th>4</th>\n",
       "      <td>Product_0979</td>\n",
       "      <td>Whse_J</td>\n",
       "      <td>Category_028</td>\n",
       "      <td>2012/3/2</td>\n",
       "      <td>500</td>\n",
       "    </tr>\n",
       "    <tr>\n",
       "      <th>...</th>\n",
       "      <td>...</td>\n",
       "      <td>...</td>\n",
       "      <td>...</td>\n",
       "      <td>...</td>\n",
       "      <td>...</td>\n",
       "    </tr>\n",
       "    <tr>\n",
       "      <th>1048570</th>\n",
       "      <td>Product_1791</td>\n",
       "      <td>Whse_J</td>\n",
       "      <td>Category_006</td>\n",
       "      <td>2016/4/27</td>\n",
       "      <td>1000</td>\n",
       "    </tr>\n",
       "    <tr>\n",
       "      <th>1048571</th>\n",
       "      <td>Product_1974</td>\n",
       "      <td>Whse_J</td>\n",
       "      <td>Category_006</td>\n",
       "      <td>2016/4/27</td>\n",
       "      <td>1</td>\n",
       "    </tr>\n",
       "    <tr>\n",
       "      <th>1048572</th>\n",
       "      <td>Product_1787</td>\n",
       "      <td>Whse_J</td>\n",
       "      <td>Category_006</td>\n",
       "      <td>2016/4/28</td>\n",
       "      <td>2500</td>\n",
       "    </tr>\n",
       "    <tr>\n",
       "      <th>1048573</th>\n",
       "      <td>Product_0901</td>\n",
       "      <td>Whse_J</td>\n",
       "      <td>Category_023</td>\n",
       "      <td>2016/10/7</td>\n",
       "      <td>50</td>\n",
       "    </tr>\n",
       "    <tr>\n",
       "      <th>1048574</th>\n",
       "      <td>Product_0704</td>\n",
       "      <td>Whse_J</td>\n",
       "      <td>Category_001</td>\n",
       "      <td>2016/6/27</td>\n",
       "      <td>4</td>\n",
       "    </tr>\n",
       "  </tbody>\n",
       "</table>\n",
       "<p>1048575 rows × 5 columns</p>\n",
       "</div>"
      ],
      "text/plain": [
       "         Product_Code Warehouse Product_Category       Date Order_Demand\n",
       "0        Product_0993    Whse_J     Category_028  2012/7/27         100 \n",
       "1        Product_0979    Whse_J     Category_028  2012/1/19         500 \n",
       "2        Product_0979    Whse_J     Category_028   2012/2/3         500 \n",
       "3        Product_0979    Whse_J     Category_028   2012/2/9         500 \n",
       "4        Product_0979    Whse_J     Category_028   2012/3/2         500 \n",
       "...               ...       ...              ...        ...          ...\n",
       "1048570  Product_1791    Whse_J     Category_006  2016/4/27        1000 \n",
       "1048571  Product_1974    Whse_J     Category_006  2016/4/27           1 \n",
       "1048572  Product_1787    Whse_J     Category_006  2016/4/28        2500 \n",
       "1048573  Product_0901    Whse_J     Category_023  2016/10/7          50 \n",
       "1048574  Product_0704    Whse_J     Category_001  2016/6/27           4 \n",
       "\n",
       "[1048575 rows x 5 columns]"
      ]
     },
     "execution_count": 488,
     "metadata": {},
     "output_type": "execute_result"
    }
   ],
   "source": [
    "init_data = '../data/initial/product_demand.csv'\n",
    "df = pd.read_csv(init_data)\n",
    "df"
   ]
  },
  {
   "cell_type": "markdown",
   "metadata": {},
   "source": [
    "## Initial Preprocessing\n",
    "To clean up the dataset, we shall do the following:\n",
    "1. Map each 'Product_Code' and 'Product_Category'feature to an integer type\n",
    "    * This will drastically decrease the space and time overhead of storing and querying these features\n",
    "2. Drop the Warehouse feature\n",
    "    * The warehouse that a product is produced in is not relevant to the demand of the product\n",
    "3. Shorten the feature names\n",
    "4. Map the 'Order_Demand' feature to an integer type\n",
    "5. Drop NaN values\n",
    "\n",
    "To save time when re-running this notebook, we utilize script that achieves these preprocessing tasks and outputs them to a new dataset file. See [this file](../src/initial_transform.py) for the source code.\n",
    "\n",
    "Below, we show the relevant source code for transforming the original dataset.\n",
    "```python\n",
    "write_loc = '../data/intermediate/data.csv'\n",
    "\n",
    "def prod_code(row):\n",
    "    c = str(row['Product_Code'])\n",
    "    # Parse\n",
    "    m = re.search('Product_([0-9]+)', c)\n",
    "    n = m.group(1)\n",
    "    return int(n) if n is not None else np.nan\n",
    "\n",
    "def prod_category(row):\n",
    "    c = str(row['Product_Category'])\n",
    "    # Parse\n",
    "    m = re.search('Category_([0-9]+)', c)\n",
    "    n = m.group(1)\n",
    "    return int(n) if n is not None else np.nan\n",
    "\n",
    "def clean_demand(row):\n",
    "    c = str(row['Order_Demand'])\n",
    "    m = re.search('[(]?([0-9]+)[)]?', c)\n",
    "    n = m.group(1)\n",
    "    return int(n) if n is not None else np.nan\n",
    "\n",
    "\n",
    "def transform_write(df):\n",
    "    df['Product_Code'] = df.apply(prod_code, axis=1)\n",
    "    df['Product_Category'] = df.apply(prod_category, axis=1)\n",
    "    df['Order_Demand'] = df.apply(clean_demand, axis=1)\n",
    "    df = df.drop('Warehouse',axis=1)\n",
    "    df = df.rename(columns={'Product_Code':'code', 'Product_Category':'category', 'Date':'date', 'Order_Demand':'demand'})\n",
    "    df = df.dropna(axis=0)\n",
    "    df.to_csv(write_loc, index=False)\n",
    "```\n",
    "\n",
    "Note: We must run the transform() function in this script if the transformed data hasn't been generated yet. See below."
   ]
  },
  {
   "cell_type": "code",
   "execution_count": 489,
   "metadata": {},
   "outputs": [],
   "source": [
    "override = False\n",
    "if not(os.path.exists('../data/intermediate/data.csv')) or override:\n",
    "    transform_write(df)"
   ]
  },
  {
   "cell_type": "markdown",
   "metadata": {},
   "source": [
    "## Loading the Preprocessed Data\n",
    "Since the dataset we are working with contains over a million rows, we have already generated the preprocessed data from our sctipt above and will simply load in the transformed data."
   ]
  },
  {
   "cell_type": "code",
   "execution_count": 490,
   "metadata": {},
   "outputs": [],
   "source": [
    "df = pd.read_csv('../data/intermediate/data.csv')"
   ]
  },
  {
   "cell_type": "markdown",
   "metadata": {},
   "source": [
    "### Converting the 'Date' column to DateTime object\n",
    "For Pandas to be able to utilize the 'Date' field in our dataset, we shall first convert the 'Data' column entries from strings into DateTime objects."
   ]
  },
  {
   "cell_type": "code",
   "execution_count": 491,
   "metadata": {},
   "outputs": [
    {
     "data": {
      "text/html": [
       "<div>\n",
       "<style scoped>\n",
       "    .dataframe tbody tr th:only-of-type {\n",
       "        vertical-align: middle;\n",
       "    }\n",
       "\n",
       "    .dataframe tbody tr th {\n",
       "        vertical-align: top;\n",
       "    }\n",
       "\n",
       "    .dataframe thead th {\n",
       "        text-align: right;\n",
       "    }\n",
       "</style>\n",
       "<table border=\"1\" class=\"dataframe\">\n",
       "  <thead>\n",
       "    <tr style=\"text-align: right;\">\n",
       "      <th></th>\n",
       "      <th>code</th>\n",
       "      <th>category</th>\n",
       "      <th>date</th>\n",
       "      <th>demand</th>\n",
       "    </tr>\n",
       "  </thead>\n",
       "  <tbody>\n",
       "    <tr>\n",
       "      <th>0</th>\n",
       "      <td>993</td>\n",
       "      <td>28</td>\n",
       "      <td>2012-07-27</td>\n",
       "      <td>100</td>\n",
       "    </tr>\n",
       "    <tr>\n",
       "      <th>1</th>\n",
       "      <td>979</td>\n",
       "      <td>28</td>\n",
       "      <td>2012-01-19</td>\n",
       "      <td>500</td>\n",
       "    </tr>\n",
       "    <tr>\n",
       "      <th>2</th>\n",
       "      <td>979</td>\n",
       "      <td>28</td>\n",
       "      <td>2012-02-03</td>\n",
       "      <td>500</td>\n",
       "    </tr>\n",
       "    <tr>\n",
       "      <th>3</th>\n",
       "      <td>979</td>\n",
       "      <td>28</td>\n",
       "      <td>2012-02-09</td>\n",
       "      <td>500</td>\n",
       "    </tr>\n",
       "    <tr>\n",
       "      <th>4</th>\n",
       "      <td>979</td>\n",
       "      <td>28</td>\n",
       "      <td>2012-03-02</td>\n",
       "      <td>500</td>\n",
       "    </tr>\n",
       "    <tr>\n",
       "      <th>...</th>\n",
       "      <td>...</td>\n",
       "      <td>...</td>\n",
       "      <td>...</td>\n",
       "      <td>...</td>\n",
       "    </tr>\n",
       "    <tr>\n",
       "      <th>1037331</th>\n",
       "      <td>1791</td>\n",
       "      <td>6</td>\n",
       "      <td>2016-04-27</td>\n",
       "      <td>1000</td>\n",
       "    </tr>\n",
       "    <tr>\n",
       "      <th>1037332</th>\n",
       "      <td>1974</td>\n",
       "      <td>6</td>\n",
       "      <td>2016-04-27</td>\n",
       "      <td>1</td>\n",
       "    </tr>\n",
       "    <tr>\n",
       "      <th>1037333</th>\n",
       "      <td>1787</td>\n",
       "      <td>6</td>\n",
       "      <td>2016-04-28</td>\n",
       "      <td>2500</td>\n",
       "    </tr>\n",
       "    <tr>\n",
       "      <th>1037334</th>\n",
       "      <td>901</td>\n",
       "      <td>23</td>\n",
       "      <td>2016-10-07</td>\n",
       "      <td>50</td>\n",
       "    </tr>\n",
       "    <tr>\n",
       "      <th>1037335</th>\n",
       "      <td>704</td>\n",
       "      <td>1</td>\n",
       "      <td>2016-06-27</td>\n",
       "      <td>4</td>\n",
       "    </tr>\n",
       "  </tbody>\n",
       "</table>\n",
       "<p>1037336 rows × 4 columns</p>\n",
       "</div>"
      ],
      "text/plain": [
       "         code  category       date  demand\n",
       "0         993        28 2012-07-27     100\n",
       "1         979        28 2012-01-19     500\n",
       "2         979        28 2012-02-03     500\n",
       "3         979        28 2012-02-09     500\n",
       "4         979        28 2012-03-02     500\n",
       "...       ...       ...        ...     ...\n",
       "1037331  1791         6 2016-04-27    1000\n",
       "1037332  1974         6 2016-04-27       1\n",
       "1037333  1787         6 2016-04-28    2500\n",
       "1037334   901        23 2016-10-07      50\n",
       "1037335   704         1 2016-06-27       4\n",
       "\n",
       "[1037336 rows x 4 columns]"
      ]
     },
     "execution_count": 491,
     "metadata": {},
     "output_type": "execute_result"
    }
   ],
   "source": [
    "df['date'] = pd.to_datetime(df['date'])\n",
    "df"
   ]
  },
  {
   "cell_type": "markdown",
   "metadata": {},
   "source": [
    "## Data Exploration\n",
    "We shall start exploration by answering the following questions:\n",
    "1. How many different products (and how many times does each appear)?\n",
    "2. How many categories (and how many times does each appear)?\n",
    "3. Which products should we use in our forecasting?\n",
    "   * We should aim to use the products with the highest product count"
   ]
  },
  {
   "cell_type": "code",
   "execution_count": 492,
   "metadata": {},
   "outputs": [],
   "source": [
    "def unique_counts_sorted(colname):\n",
    "    df_tmp = pd.DataFrame(np.transpose(np.unique(df[colname], return_counts=True)), columns=[colname, 'Count'])\n",
    "    df_tmp = df_tmp.sort_values(['Count', colname], ascending=[False, True])\n",
    "    return df_tmp"
   ]
  },
  {
   "cell_type": "markdown",
   "metadata": {},
   "source": [
    "### Top Product Counts\n",
    "We shall use these top 3 products in our forecasting because they contain the most number of sample data points to use for training and testing."
   ]
  },
  {
   "cell_type": "code",
   "execution_count": 493,
   "metadata": {},
   "outputs": [
    {
     "data": {
      "text/html": [
       "<div>\n",
       "<style scoped>\n",
       "    .dataframe tbody tr th:only-of-type {\n",
       "        vertical-align: middle;\n",
       "    }\n",
       "\n",
       "    .dataframe tbody tr th {\n",
       "        vertical-align: top;\n",
       "    }\n",
       "\n",
       "    .dataframe thead th {\n",
       "        text-align: right;\n",
       "    }\n",
       "</style>\n",
       "<table border=\"1\" class=\"dataframe\">\n",
       "  <thead>\n",
       "    <tr style=\"text-align: right;\">\n",
       "      <th></th>\n",
       "      <th>code</th>\n",
       "      <th>Count</th>\n",
       "    </tr>\n",
       "  </thead>\n",
       "  <tbody>\n",
       "    <tr>\n",
       "      <th>1348</th>\n",
       "      <td>1359</td>\n",
       "      <td>16936</td>\n",
       "    </tr>\n",
       "    <tr>\n",
       "      <th>1284</th>\n",
       "      <td>1295</td>\n",
       "      <td>10575</td>\n",
       "    </tr>\n",
       "    <tr>\n",
       "      <th>1367</th>\n",
       "      <td>1378</td>\n",
       "      <td>9770</td>\n",
       "    </tr>\n",
       "  </tbody>\n",
       "</table>\n",
       "</div>"
      ],
      "text/plain": [
       "      code  Count\n",
       "1348  1359  16936\n",
       "1284  1295  10575\n",
       "1367  1378   9770"
      ]
     },
     "execution_count": 493,
     "metadata": {},
     "output_type": "execute_result"
    }
   ],
   "source": [
    "tmp = unique_counts_sorted('code').head(3)\n",
    "\n",
    "# Store the desired product codes to use for our models\n",
    "codes = list(tmp['code'])\n",
    "\n",
    "# Define the associated dataframes to these product codes\n",
    "code_dfs = list(map(lambda n : df[df['code'] == n], codes))\n",
    "\n",
    "tmp\n",
    "#code_dfs"
   ]
  },
  {
   "cell_type": "markdown",
   "metadata": {},
   "source": [
    "### Top Category Counts\n",
    "We see that almost half of the rows fall into product category 19."
   ]
  },
  {
   "cell_type": "code",
   "execution_count": 494,
   "metadata": {},
   "outputs": [
    {
     "data": {
      "text/html": [
       "<div>\n",
       "<style scoped>\n",
       "    .dataframe tbody tr th:only-of-type {\n",
       "        vertical-align: middle;\n",
       "    }\n",
       "\n",
       "    .dataframe tbody tr th {\n",
       "        vertical-align: top;\n",
       "    }\n",
       "\n",
       "    .dataframe thead th {\n",
       "        text-align: right;\n",
       "    }\n",
       "</style>\n",
       "<table border=\"1\" class=\"dataframe\">\n",
       "  <thead>\n",
       "    <tr style=\"text-align: right;\">\n",
       "      <th></th>\n",
       "      <th>category</th>\n",
       "      <th>Count</th>\n",
       "    </tr>\n",
       "  </thead>\n",
       "  <tbody>\n",
       "    <tr>\n",
       "      <th>18</th>\n",
       "      <td>19</td>\n",
       "      <td>470266</td>\n",
       "    </tr>\n",
       "    <tr>\n",
       "      <th>4</th>\n",
       "      <td>5</td>\n",
       "      <td>101627</td>\n",
       "    </tr>\n",
       "    <tr>\n",
       "      <th>0</th>\n",
       "      <td>1</td>\n",
       "      <td>97787</td>\n",
       "    </tr>\n",
       "  </tbody>\n",
       "</table>\n",
       "</div>"
      ],
      "text/plain": [
       "    category   Count\n",
       "18        19  470266\n",
       "4          5  101627\n",
       "0          1   97787"
      ]
     },
     "execution_count": 494,
     "metadata": {},
     "output_type": "execute_result"
    }
   ],
   "source": [
    "unique_counts_sorted('category').head(3)"
   ]
  },
  {
   "cell_type": "markdown",
   "metadata": {},
   "source": [
    "### Demand Statistics for top products"
   ]
  },
  {
   "cell_type": "code",
   "execution_count": 495,
   "metadata": {},
   "outputs": [
    {
     "data": {
      "text/html": [
       "<div>\n",
       "<style scoped>\n",
       "    .dataframe tbody tr th:only-of-type {\n",
       "        vertical-align: middle;\n",
       "    }\n",
       "\n",
       "    .dataframe tbody tr th {\n",
       "        vertical-align: top;\n",
       "    }\n",
       "\n",
       "    .dataframe thead th {\n",
       "        text-align: right;\n",
       "    }\n",
       "</style>\n",
       "<table border=\"1\" class=\"dataframe\">\n",
       "  <thead>\n",
       "    <tr style=\"text-align: right;\">\n",
       "      <th></th>\n",
       "      <th>code</th>\n",
       "      <th>min</th>\n",
       "      <th>max</th>\n",
       "      <th>mean</th>\n",
       "      <th>median</th>\n",
       "    </tr>\n",
       "  </thead>\n",
       "  <tbody>\n",
       "    <tr>\n",
       "      <th>0</th>\n",
       "      <td>1359</td>\n",
       "      <td>0</td>\n",
       "      <td>2000000</td>\n",
       "      <td>27897.614549</td>\n",
       "      <td>10000.0</td>\n",
       "    </tr>\n",
       "    <tr>\n",
       "      <th>1</th>\n",
       "      <td>1295</td>\n",
       "      <td>0</td>\n",
       "      <td>400000</td>\n",
       "      <td>11659.858156</td>\n",
       "      <td>6000.0</td>\n",
       "    </tr>\n",
       "    <tr>\n",
       "      <th>2</th>\n",
       "      <td>1378</td>\n",
       "      <td>0</td>\n",
       "      <td>300000</td>\n",
       "      <td>8560.153531</td>\n",
       "      <td>5000.0</td>\n",
       "    </tr>\n",
       "  </tbody>\n",
       "</table>\n",
       "</div>"
      ],
      "text/plain": [
       "   code  min      max          mean   median\n",
       "0  1359    0  2000000  27897.614549  10000.0\n",
       "1  1295    0   400000  11659.858156   6000.0\n",
       "2  1378    0   300000   8560.153531   5000.0"
      ]
     },
     "execution_count": 495,
     "metadata": {},
     "output_type": "execute_result"
    }
   ],
   "source": [
    "l = []\n",
    "for code, df_ in zip(codes,code_dfs):\n",
    "    demand = df_['demand']\n",
    "    l.append([code, demand.min(), demand.max(), demand.mean(), demand.median()])\n",
    "\n",
    "demand_stats = pd.DataFrame(l, columns=['code', 'min', 'max', 'mean', 'median'])\n",
    "demand_stats"
   ]
  },
  {
   "cell_type": "markdown",
   "metadata": {},
   "source": [
    "### Observing 'demand vs date' for top products\n",
    "To gain some intuition behind our data, we shall plot the demand of the top products against the date associated. \n",
    "\n",
    "We observe the following:\n",
    "* most of the 'demand' data points lie near the bottom of the range for each product\n",
    "* the data points tend to repeat on well-defined 'demand' values"
   ]
  },
  {
   "cell_type": "code",
   "execution_count": 496,
   "metadata": {},
   "outputs": [
    {
     "data": {
      "image/png": "[encoded data removed]",
      "text/plain": [
       "<Figure size 432x288 with 1 Axes>"
      ]
     },
     "metadata": {
      "needs_background": "light"
     },
     "output_type": "display_data"
    },
    {
     "data": {
      "image/png": "[encoded data removed]",
      "text/plain": [
       "<Figure size 432x288 with 1 Axes>"
      ]
     },
     "metadata": {
      "needs_background": "light"
     },
     "output_type": "display_data"
    },
    {
     "data": {
      "image/png": "[encoded data removed]",
      "text/plain": [
       "<Figure size 432x288 with 1 Axes>"
      ]
     },
     "metadata": {
      "needs_background": "light"
     },
     "output_type": "display_data"
    }
   ],
   "source": [
    "i = 0\n",
    "for code, df_ in zip(codes,code_dfs):\n",
    "    mn = demand_stats.loc[i, 'min']\n",
    "    mx = demand_stats.loc[i, 'max']\n",
    "    delta = int((mx - mn) / 5)\n",
    "    plt.scatter(df_['date'], df_['demand'], label=str(code))\n",
    "    plt.yticks(np.arange(mn, mx + delta, step=delta))\n",
    "    plt.title(\"Demand over time (Product {})\".format(str(code)))\n",
    "    plt.show()\n",
    "    i += 1"
   ]
  },
  {
   "cell_type": "code",
   "execution_count": null,
   "metadata": {},
   "outputs": [],
   "source": []
  }
 ],
 "metadata": {
  "kernelspec": {
   "display_name": "Python 3",
   "language": "python",
   "name": "python3"
  },
  "language_info": {
   "codemirror_mode": {
    "name": "ipython",
    "version": 3
   },
   "file_extension": ".py",
   "mimetype": "text/x-python",
   "name": "python",
   "nbconvert_exporter": "python",
   "pygments_lexer": "ipython3",
   "version": "3.8.3"
  }
 },
 "nbformat": 4,
 "nbformat_minor": 4
}
